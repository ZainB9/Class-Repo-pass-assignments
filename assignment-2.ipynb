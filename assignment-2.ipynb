{
 "cells": [
  {
   "cell_type": "code",
   "execution_count": 47,
   "metadata": {},
   "outputs": [],
   "source": [
    "import pandas as pd\n",
    "import re\n",
    "import nltk\n",
    "from nltk.tokenize import word_tokenize\n",
    "from nltk.corpus import stopwords\n",
    "import nltk\n",
    "from nltk.stem import WordNetLemmatizer\n",
    "lemmatizer=WordNetLemmatizer() #Initialize lemmatizer\n",
    "from nltk.corpus import wordnet\n",
    "from collections import Counter\n",
    "import itertools\n",
    "import ast"
   ]
  },
  {
   "cell_type": "markdown",
   "metadata": {},
   "source": [
    ">* We are going to use email data from program-l mailing list to build edges and nodes for the graph.\n",
    ">* https://www.freelists.org/archive/program-l\n",
    "> * Let's read file using `pd.read_csv` "
   ]
  },
  {
   "cell_type": "code",
   "execution_count": 48,
   "metadata": {},
   "outputs": [],
   "source": [
    "data=pd.read_csv('thread_sample.csv')"
   ]
  },
  {
   "cell_type": "markdown",
   "metadata": {},
   "source": [
    ">* In `data` dataframe, we have six columns, each representing as follows:\n",
    "    \n",
    "    * `thread_id` : unique id for each thread\n",
    "    * `thread_name` : the first subject of the email\n",
    "    * `body` : the content of the email \n",
    "    * `account` : the email account of the sender \n",
    "    * `url` : the url of the email\n",
    "    * `date` : the date of the email "
   ]
  },
  {
   "cell_type": "code",
   "execution_count": 49,
   "metadata": {},
   "outputs": [
    {
     "data": {
      "text/html": [
       "<div>\n",
       "<style scoped>\n",
       "    .dataframe tbody tr th:only-of-type {\n",
       "        vertical-align: middle;\n",
       "    }\n",
       "\n",
       "    .dataframe tbody tr th {\n",
       "        vertical-align: top;\n",
       "    }\n",
       "\n",
       "    .dataframe thead th {\n",
       "        text-align: right;\n",
       "    }\n",
       "</style>\n",
       "<table border=\"1\" class=\"dataframe\">\n",
       "  <thead>\n",
       "    <tr style=\"text-align: right;\">\n",
       "      <th></th>\n",
       "      <th>thread_id</th>\n",
       "      <th>thread_name</th>\n",
       "      <th>body</th>\n",
       "      <th>account</th>\n",
       "      <th>url</th>\n",
       "      <th>date</th>\n",
       "    </tr>\n",
       "  </thead>\n",
       "  <tbody>\n",
       "    <tr>\n",
       "      <th>0</th>\n",
       "      <td>4007</td>\n",
       "      <td>Temperature-monitoring-project-in-C</td>\n",
       "      <td>[\"Hi people! Right now, I'm currently doing a ...</td>\n",
       "      <td>['chojiro1990' 'soronel.haetir' 'chojiro1990' ...</td>\n",
       "      <td>['https://www.freelists.org/post/program-l/Tem...</td>\n",
       "      <td>['2013-06-05T09:50:54.000000000' '2013-06-05T1...</td>\n",
       "    </tr>\n",
       "    <tr>\n",
       "      <th>1</th>\n",
       "      <td>7725</td>\n",
       "      <td>subscription</td>\n",
       "      <td>['I am. I write you from Budapest, Hungary. I ...</td>\n",
       "      <td>['hedvig.jung' 'dzhovani.chemishanov' 'hedvig....</td>\n",
       "      <td>['https://www.freelists.org/post/program-l/sub...</td>\n",
       "      <td>['2021-05-18T14:26:59.000000000' '2021-05-18T1...</td>\n",
       "    </tr>\n",
       "    <tr>\n",
       "      <th>2</th>\n",
       "      <td>1162</td>\n",
       "      <td>jaws-remote-desktop</td>\n",
       "      <td>[\"Hi All. I'm possibly needing to use windows ...</td>\n",
       "      <td>['justind' 'david.lant' 'justind' 'travis' 'ju...</td>\n",
       "      <td>['https://www.freelists.org/post/program-l/jaw...</td>\n",
       "      <td>['2005-08-31T08:52:21.000000000' '2005-08-31T0...</td>\n",
       "    </tr>\n",
       "    <tr>\n",
       "      <th>3</th>\n",
       "      <td>2300</td>\n",
       "      <td>Problems-with-VC-2008-Express</td>\n",
       "      <td>['gang I\\'m trying to use VC # Express 2008. O...</td>\n",
       "      <td>['birkir.gunnarsson' 'lras' 'birkir.gunnarsson...</td>\n",
       "      <td>['https://www.freelists.org/post/program-l/Pro...</td>\n",
       "      <td>['2009-05-19T19:12:22.000000000' '2009-05-19T1...</td>\n",
       "    </tr>\n",
       "    <tr>\n",
       "      <th>4</th>\n",
       "      <td>1117</td>\n",
       "      <td>VB6-Tab-Order</td>\n",
       "      <td>[\"Hi all, I have a VB form which shows a numbe...</td>\n",
       "      <td>['david.lant' 'markalong64' 'jamal.mazrui' 'da...</td>\n",
       "      <td>['https://www.freelists.org/post/program-l/VB6...</td>\n",
       "      <td>['2005-07-28T15:12:17.000000000' '2005-07-28T1...</td>\n",
       "    </tr>\n",
       "  </tbody>\n",
       "</table>\n",
       "</div>"
      ],
      "text/plain": [
       "   thread_id                          thread_name  \\\n",
       "0       4007  Temperature-monitoring-project-in-C   \n",
       "1       7725                         subscription   \n",
       "2       1162                  jaws-remote-desktop   \n",
       "3       2300        Problems-with-VC-2008-Express   \n",
       "4       1117                        VB6-Tab-Order   \n",
       "\n",
       "                                                body  \\\n",
       "0  [\"Hi people! Right now, I'm currently doing a ...   \n",
       "1  ['I am. I write you from Budapest, Hungary. I ...   \n",
       "2  [\"Hi All. I'm possibly needing to use windows ...   \n",
       "3  ['gang I\\'m trying to use VC # Express 2008. O...   \n",
       "4  [\"Hi all, I have a VB form which shows a numbe...   \n",
       "\n",
       "                                             account  \\\n",
       "0  ['chojiro1990' 'soronel.haetir' 'chojiro1990' ...   \n",
       "1  ['hedvig.jung' 'dzhovani.chemishanov' 'hedvig....   \n",
       "2  ['justind' 'david.lant' 'justind' 'travis' 'ju...   \n",
       "3  ['birkir.gunnarsson' 'lras' 'birkir.gunnarsson...   \n",
       "4  ['david.lant' 'markalong64' 'jamal.mazrui' 'da...   \n",
       "\n",
       "                                                 url  \\\n",
       "0  ['https://www.freelists.org/post/program-l/Tem...   \n",
       "1  ['https://www.freelists.org/post/program-l/sub...   \n",
       "2  ['https://www.freelists.org/post/program-l/jaw...   \n",
       "3  ['https://www.freelists.org/post/program-l/Pro...   \n",
       "4  ['https://www.freelists.org/post/program-l/VB6...   \n",
       "\n",
       "                                                date  \n",
       "0  ['2013-06-05T09:50:54.000000000' '2013-06-05T1...  \n",
       "1  ['2021-05-18T14:26:59.000000000' '2021-05-18T1...  \n",
       "2  ['2005-08-31T08:52:21.000000000' '2005-08-31T0...  \n",
       "3  ['2009-05-19T19:12:22.000000000' '2009-05-19T1...  \n",
       "4  ['2005-07-28T15:12:17.000000000' '2005-07-28T1...  "
      ]
     },
     "execution_count": 49,
     "metadata": {},
     "output_type": "execute_result"
    }
   ],
   "source": [
    "data.head()"
   ]
  },
  {
   "cell_type": "code",
   "execution_count": 50,
   "metadata": {},
   "outputs": [
    {
     "data": {
      "text/plain": [
       "0     ['chojiro1990' 'soronel.haetir' 'chojiro1990' ...\n",
       "1     ['hedvig.jung' 'dzhovani.chemishanov' 'hedvig....\n",
       "2     ['justind' 'david.lant' 'justind' 'travis' 'ju...\n",
       "3     ['birkir.gunnarsson' 'lras' 'birkir.gunnarsson...\n",
       "4     ['david.lant' 'markalong64' 'jamal.mazrui' 'da...\n",
       "                            ...                        \n",
       "95                          ['cmusic789' 'james.homme']\n",
       "96    ['m10fayed' 'abletec' 'ntsiklauri2' 'spg1111' ...\n",
       "97                 ['jhomme' 'jhomme' 'isidor.nikolic']\n",
       "98    ['programmer651' 'james.corbett' 'joseph.lee22...\n",
       "99    ['pmorales' 'rbreiten' 'jude.dashiell' 'jude.d...\n",
       "Name: account, Length: 100, dtype: object"
      ]
     },
     "execution_count": 50,
     "metadata": {},
     "output_type": "execute_result"
    }
   ],
   "source": [
    "data['account']"
   ]
  },
  {
   "cell_type": "markdown",
   "metadata": {},
   "source": [
    "### 1. Regular Expression (RegEx) (2pt)"
   ]
  },
  {
   "cell_type": "markdown",
   "metadata": {},
   "source": [
    "#### 1-1. RegEx to extract usernames (1pt)"
   ]
  },
  {
   "cell_type": "code",
   "execution_count": 51,
   "metadata": {},
   "outputs": [
    {
     "data": {
      "text/plain": [
       "\"['chojiro1990' 'soronel.haetir' 'chojiro1990' 'soronel.haetir'\\r\\n 'chojiro1990' 'soronel.haetir' 'chojiro1990' 'soronel.haetir'\\r\\n 'chojiro1990']\""
      ]
     },
     "execution_count": 51,
     "metadata": {},
     "output_type": "execute_result"
    }
   ],
   "source": [
    "data['account'].iloc[0]"
   ]
  },
  {
   "cell_type": "code",
   "execution_count": 52,
   "metadata": {},
   "outputs": [
    {
     "data": {
      "text/html": [
       "<div>\n",
       "<style scoped>\n",
       "    .dataframe tbody tr th:only-of-type {\n",
       "        vertical-align: middle;\n",
       "    }\n",
       "\n",
       "    .dataframe tbody tr th {\n",
       "        vertical-align: top;\n",
       "    }\n",
       "\n",
       "    .dataframe thead th {\n",
       "        text-align: right;\n",
       "    }\n",
       "</style>\n",
       "<table border=\"1\" class=\"dataframe\">\n",
       "  <thead>\n",
       "    <tr style=\"text-align: right;\">\n",
       "      <th></th>\n",
       "      <th>account</th>\n",
       "      <th>extracted_usernames</th>\n",
       "    </tr>\n",
       "  </thead>\n",
       "  <tbody>\n",
       "    <tr>\n",
       "      <th>0</th>\n",
       "      <td>['chojiro1990' 'soronel.haetir' 'chojiro1990' ...</td>\n",
       "      <td>[chojiro1990, soronel.haetir, chojiro1990, sor...</td>\n",
       "    </tr>\n",
       "    <tr>\n",
       "      <th>1</th>\n",
       "      <td>['hedvig.jung' 'dzhovani.chemishanov' 'hedvig....</td>\n",
       "      <td>[hedvig.jung, dzhovani.chemishanov, hedvig.jung]</td>\n",
       "    </tr>\n",
       "    <tr>\n",
       "      <th>2</th>\n",
       "      <td>['justind' 'david.lant' 'justind' 'travis' 'ju...</td>\n",
       "      <td>[justind, david.lant, justind, travis, justind...</td>\n",
       "    </tr>\n",
       "    <tr>\n",
       "      <th>3</th>\n",
       "      <td>['birkir.gunnarsson' 'lras' 'birkir.gunnarsson...</td>\n",
       "      <td>[birkir.gunnarsson, lras, birkir.gunnarsson, j...</td>\n",
       "    </tr>\n",
       "    <tr>\n",
       "      <th>4</th>\n",
       "      <td>['david.lant' 'markalong64' 'jamal.mazrui' 'da...</td>\n",
       "      <td>[david.lant, markalong64, jamal.mazrui, david....</td>\n",
       "    </tr>\n",
       "  </tbody>\n",
       "</table>\n",
       "</div>"
      ],
      "text/plain": [
       "                                             account  \\\n",
       "0  ['chojiro1990' 'soronel.haetir' 'chojiro1990' ...   \n",
       "1  ['hedvig.jung' 'dzhovani.chemishanov' 'hedvig....   \n",
       "2  ['justind' 'david.lant' 'justind' 'travis' 'ju...   \n",
       "3  ['birkir.gunnarsson' 'lras' 'birkir.gunnarsson...   \n",
       "4  ['david.lant' 'markalong64' 'jamal.mazrui' 'da...   \n",
       "\n",
       "                                 extracted_usernames  \n",
       "0  [chojiro1990, soronel.haetir, chojiro1990, sor...  \n",
       "1   [hedvig.jung, dzhovani.chemishanov, hedvig.jung]  \n",
       "2  [justind, david.lant, justind, travis, justind...  \n",
       "3  [birkir.gunnarsson, lras, birkir.gunnarsson, j...  \n",
       "4  [david.lant, markalong64, jamal.mazrui, david....  "
      ]
     },
     "execution_count": 52,
     "metadata": {},
     "output_type": "execute_result"
    }
   ],
   "source": [
    "#YOUR CODE HERE\n",
    "data['extracted_usernames'] = data['account'].apply(lambda x: re.findall(r\"'([a-zA-Z0-9._-]+)'\", x))\n",
    "data[['account', 'extracted_usernames']].head()"
   ]
  },
  {
   "cell_type": "markdown",
   "metadata": {},
   "source": [
    "#### 1-2. RegEx to extract date (1pt)"
   ]
  },
  {
   "cell_type": "code",
   "execution_count": 53,
   "metadata": {},
   "outputs": [
    {
     "data": {
      "text/plain": [
       "\"['2013-06-05T09:50:54.000000000' '2013-06-05T15:42:35.000000000'\\r\\n '2013-06-05T16:28:36.000000000' '2013-06-05T19:52:01.000000000'\\r\\n '2013-06-06T09:33:53.000000000' '2013-06-06T15:31:31.000000000'\\r\\n '2013-06-06T19:15:11.000000000' '2013-06-06T20:04:44.000000000'\\r\\n '2013-06-07T05:05:21.000000000']\""
      ]
     },
     "execution_count": 53,
     "metadata": {},
     "output_type": "execute_result"
    }
   ],
   "source": [
    "data['date'].iloc[0]"
   ]
  },
  {
   "cell_type": "code",
   "execution_count": 54,
   "metadata": {},
   "outputs": [
    {
     "data": {
      "text/html": [
       "<div>\n",
       "<style scoped>\n",
       "    .dataframe tbody tr th:only-of-type {\n",
       "        vertical-align: middle;\n",
       "    }\n",
       "\n",
       "    .dataframe tbody tr th {\n",
       "        vertical-align: top;\n",
       "    }\n",
       "\n",
       "    .dataframe thead th {\n",
       "        text-align: right;\n",
       "    }\n",
       "</style>\n",
       "<table border=\"1\" class=\"dataframe\">\n",
       "  <thead>\n",
       "    <tr style=\"text-align: right;\">\n",
       "      <th></th>\n",
       "      <th>date</th>\n",
       "      <th>extracted_dates</th>\n",
       "    </tr>\n",
       "  </thead>\n",
       "  <tbody>\n",
       "    <tr>\n",
       "      <th>0</th>\n",
       "      <td>['2013-06-05T09:50:54.000000000' '2013-06-05T1...</td>\n",
       "      <td>[(2013, 06, 05), (2013, 06, 05), (2013, 06, 05...</td>\n",
       "    </tr>\n",
       "    <tr>\n",
       "      <th>1</th>\n",
       "      <td>['2021-05-18T14:26:59.000000000' '2021-05-18T1...</td>\n",
       "      <td>[(2021, 05, 18), (2021, 05, 18), (2021, 05, 18)]</td>\n",
       "    </tr>\n",
       "    <tr>\n",
       "      <th>2</th>\n",
       "      <td>['2005-08-31T08:52:21.000000000' '2005-08-31T0...</td>\n",
       "      <td>[(2005, 08, 31), (2005, 08, 31), (2005, 08, 31...</td>\n",
       "    </tr>\n",
       "    <tr>\n",
       "      <th>3</th>\n",
       "      <td>['2009-05-19T19:12:22.000000000' '2009-05-19T1...</td>\n",
       "      <td>[(2009, 05, 19), (2009, 05, 19), (2009, 05, 19...</td>\n",
       "    </tr>\n",
       "    <tr>\n",
       "      <th>4</th>\n",
       "      <td>['2005-07-28T15:12:17.000000000' '2005-07-28T1...</td>\n",
       "      <td>[(2005, 07, 28), (2005, 07, 28), (2005, 07, 28...</td>\n",
       "    </tr>\n",
       "  </tbody>\n",
       "</table>\n",
       "</div>"
      ],
      "text/plain": [
       "                                                date  \\\n",
       "0  ['2013-06-05T09:50:54.000000000' '2013-06-05T1...   \n",
       "1  ['2021-05-18T14:26:59.000000000' '2021-05-18T1...   \n",
       "2  ['2005-08-31T08:52:21.000000000' '2005-08-31T0...   \n",
       "3  ['2009-05-19T19:12:22.000000000' '2009-05-19T1...   \n",
       "4  ['2005-07-28T15:12:17.000000000' '2005-07-28T1...   \n",
       "\n",
       "                                     extracted_dates  \n",
       "0  [(2013, 06, 05), (2013, 06, 05), (2013, 06, 05...  \n",
       "1   [(2021, 05, 18), (2021, 05, 18), (2021, 05, 18)]  \n",
       "2  [(2005, 08, 31), (2005, 08, 31), (2005, 08, 31...  \n",
       "3  [(2009, 05, 19), (2009, 05, 19), (2009, 05, 19...  \n",
       "4  [(2005, 07, 28), (2005, 07, 28), (2005, 07, 28...  "
      ]
     },
     "execution_count": 54,
     "metadata": {},
     "output_type": "execute_result"
    }
   ],
   "source": [
    "#YOUR CODE HERE\n",
    "data['extracted_dates'] = data['date'].apply(lambda x: re.findall(r'(\\d{4})-(\\d{2})-(\\d{2})', x))\n",
    "data[['date', 'extracted_dates']].head()"
   ]
  },
  {
   "cell_type": "markdown",
   "metadata": {},
   "source": [
    "### 2. Pandas and Text mining (6pt)"
   ]
  },
  {
   "cell_type": "markdown",
   "metadata": {},
   "source": [
    "#### 2-1. Count the number of users involved in the email conversation (1pt)"
   ]
  },
  {
   "cell_type": "code",
   "execution_count": 55,
   "metadata": {},
   "outputs": [
    {
     "data": {
      "text/plain": [
       "0     1\n",
       "63    1\n",
       "73    1\n",
       "72    1\n",
       "71    1\n",
       "     ..\n",
       "30    1\n",
       "29    1\n",
       "28    1\n",
       "27    1\n",
       "99    1\n",
       "Name: account, Length: 100, dtype: int64"
      ]
     },
     "execution_count": 55,
     "metadata": {},
     "output_type": "execute_result"
    }
   ],
   "source": [
    "#YOUR CODE HERE\n",
    "data['account'].apply(lambda x: pd.Series(x).nunique()).sort_values(ascending=False)"
   ]
  },
  {
   "cell_type": "markdown",
   "metadata": {},
   "source": [
    "#### 2-2. Lowercase the body column (1pt)"
   ]
  },
  {
   "cell_type": "code",
   "execution_count": 56,
   "metadata": {},
   "outputs": [
    {
     "name": "stdout",
     "output_type": "stream",
     "text": [
      "[\"hi people! right now, i'm currently doing a project college with two others. project is basically a scenario where a company needs a server set up, proper networking\"\n",
      " 'if you want to append to a file rather than overwrite you first need to try file. open ( ) only use file. create ( ) if the open fails ( by throwing a system. io. filenotfoundexception ).'\n",
      " \"hi! yeah, i'm going to fix that up later on. i'm more concerned with getting the right numbers to log, as those above 25, but nothing else. any number above 25, for example, should be logged. everything else should not be. i've had a look around, but can't find anything consistent.\"\n",
      " 'restricting the write to overheating alerts is a matter of understanding the data produced by your probe. you are a far better position to know what data your probe returns than i am. place to make the change would most likely be p _ datareceived would be something like: string databuffer = \" \"; static void p _ datareceived ( object sender, serialdatareceivedeventargs e ) { databuffer += ( sender as serialport ). readexisting ( ); while ( completemessagerecieved ) { float temperature =...; if ( 25. 0f < temperature ) { / * log message * / } / * discard first message * / } } bool completemessagerecieved { get { / * test to make sure that there is least one complete message databuffer * / } }'\n",
      " \"hello! i've just had the opportunity to try this. these sensors are very sensitive, so i am unable to do this unless i modify the application simply have it count upwards, then log when the numbers above 25 are reached, but this may still require a slightly altered approach when receiving from the serial port. i attempted to modify the serial port section accordingly, but it doesn't seem able to contain the logging mechanism unless i am doing it incorrectly. unfortunately, it seems as if the only approach is to have the logging mechanism span several classes order to properly redirect the output, then continually output to the console simultaneously. so, i think this becomes complex, least when it comes to copying the console output to a text file when a condition is reached. i of course know how my code works, but i'm not sure where to apply anything more so that it works as expected when it comes to this particular feature. that's why i'm asking someone with more experience with this language. i have a tendency to make issues appear much more complex than they might be, so i may be overlooking the obvious solution here. act of having the program behave differently depending on a condition isn't the hard part particular this case, it's mostly because of the apparent complexity involved with getting this to work as desired when a number is reached. obviously, the general scope is to have the file logging suspended when it is below, but as soon as the temperature reaches over, the logging resumes. temperature is not given decimals as is customary, but you wouldn't know the calculations for the temperature because the arduino code is not included here. it isn't very relevant to this issue, as the needs to do the work to store the information. i would have preferred to write this to an sd _ card connected to the arduino board, but that would have been beyond the scope of this project. all you essentially see are numbers, nothing else. that conforms to the project requirements. so, summary, i wouldn't mind a definitive reply due to my lack of understanding for this particular language. in\"\n",
      " \"ummm, i really don't see why the sensitivity of the probe matters all, what matters is the form of data the device produces. if you could describe that it would likely be your best route to some actual help. if you want to log to the file every time you get a temperature reading but only log to the console when you get a reading over 25c that would still be a matter for your datareceived event handler, it would just have two actions instead of one. one thing to add, i would be somewhat surprised if such a device were to produce data that could meaningfully be shoved into a string as - is. likely would be to read the incoming data into a byte array ( using serialport. ( byte [ ], int32, int32 ) work with it from there.\"\n",
      " \"hi! you already know the type of data the device produces. what i have outlined is quite literally what it needs to do, how it shows it. it doesn't display anything but numbers as output, that's all the device currently is required to do. i'll change certain things around later once i actually get this to function as expected, but this won't change anything all except how the information is presented the file, so it will still be capable of logging it as long as the numbers don't change. solution itself is actually incredibly simple, i'm just not sure where or how to make the adjustment given how the information is actually logged to the file, unless there is an easier way to deploy such a feature without losing console output. in summary, what i need is a console application which reads the serial data from the com port after choosing which port to use. when the program begins reading the data, it shows each reading on a different line so the numbers don't actually blend together. only information that will be shown are numbers, like 25, nothing more than that. that's the exact number format. when the number is greater than 25, the will start to log the incoming information, but hopefully it's still possible to show console output while logging the information. once the temperature decreases down to 25 below, the logging stops. i'm really sure i cannot make it clearer than that. solution is obvious - make an if statement that, when the number is greater than 25, starts to log the information to file. even the problem is a very simple algorithm. currently, the only function the application does not perform is logging when the temperature increases above 25, that is the part that needs fixing so that it does what it needs to do. as mentioned above, that is actually how the numbers show up. again, if it's smarter to drop the code for the real time output logging, i suppose it isn't a huge deal if the numbers above 25 don't show as long as they write to the file. that's pretty much what's important, what needs to work. numbers below do not need to be written to the file all, just displayed the console. i can't tell you more than this, since that's actually all there is to it, so i can't elaborate. this is how the data is displayed, the form of data it is, its purpose function. it really doesn't bother me how a solution is reached, as long as it logs anything above the number of 25, discards anything below that only shows it the console. that's all that matters. that should clear things up if it wasn't clear to begin with. thanks!\"\n",
      " 'no, i do not know what data the device produces. i mean, it could be something like { time - stamp } { temp reading } or maybe just { temp reading }, or it could be something else entirely. data could already be formatted as a string or it might be pure binary. i do not know any of those things, yet that is exactly what is needed order to be able to perform any sort of tests on the data read from the probe.'\n",
      " 'all it produces is temp reading. that should be the last thing you need to know. rest of the information you need is the previous messages']\n"
     ]
    }
   ],
   "source": [
    "#YOUR CODE HERE\n",
    "data['body_lower'] = data['body'].apply(lambda x: x.lower())\n",
    "print(data['body_lower'].iloc[0])"
   ]
  },
  {
   "cell_type": "markdown",
   "metadata": {},
   "source": [
    "#### 2-3. Removing stopwords (1pt)"
   ]
  },
  {
   "cell_type": "code",
   "execution_count": 57,
   "metadata": {},
   "outputs": [
    {
     "data": {
      "text/plain": [
       "'[\\'tell me if you guys get an attachment if i send one. recently, i created a application the javascript programming language. program is called a \" tape loop \", for i like to compare it to the modern day version of looping through data cells the \" tape. \" this app produces no output per loop iteration, for it is a \" speed test. \" in the app, you will see a blank box, a button labeled \" start the tape loop, \" a box with some words it. let\\\\\\'s say you type 1000 the first box. from the time you hit \" start the tape loop \" to the time the words the third box change to the number you just typed, it has done 1000 computations. it becomes obvious with numbers like 10000 ( ten thousand ), where it takes a few seconds for the box on the right to be updated. it is a speed test of the operating system, the browser, the javascript interpreter of the browser; the third being mostly what it is. z\\'\\r\\n \\'z: \" tell me if you guys get an attachment if i send one. \", wouldn\\\\\\'t that question answer it\\\\\\'s self if you sent an attachment?\\'\\r\\n \"hi, we didn\\'t get attachments from you.\"\\r\\n \\'sorry, some mailing list systems delete attachments, but it could have been my messing up. this reply message. z\\'\\r\\n \\'hi: before jumps, you are not permitted to send attachments to this list.\\']'"
      ]
     },
     "execution_count": 57,
     "metadata": {},
     "output_type": "execute_result"
    }
   ],
   "source": [
    "#YOUR CODE HERE\n",
    "stop=stopwords.words('english')\n",
    "data['stopword']=data['body_lower'].apply(lambda x: ' '.join([word for word in x.split() if word not in stop]))\n",
    "data['body_lower'].iloc[98]"
   ]
  },
  {
   "cell_type": "code",
   "execution_count": 58,
   "metadata": {},
   "outputs": [
    {
     "data": {
      "text/plain": [
       "'[\\'tell guys get attachment send one. recently, created application javascript programming language. program called \" tape loop \", like compare modern day version looping data cells \" tape. \" app produces output per loop iteration, \" speed test. \" app, see blank box, button labeled \" start tape loop, \" box words it. let\\\\\\'s say type 1000 first box. time hit \" start tape loop \" time words third box change number typed, done 1000 computations. becomes obvious numbers like 10000 ( ten thousand ), takes seconds box right updated. speed test operating system, browser, javascript interpreter browser; third mostly is. z\\' \\'z: \" tell guys get attachment send one. \", wouldn\\\\\\'t question answer it\\\\\\'s self sent attachment?\\' \"hi, get attachments you.\" \\'sorry, mailing list systems delete attachments, could messing up. reply message. z\\' \\'hi: jumps, permitted send attachments list.\\']'"
      ]
     },
     "execution_count": 58,
     "metadata": {},
     "output_type": "execute_result"
    }
   ],
   "source": [
    "data['stopword'].iloc[98]"
   ]
  },
  {
   "cell_type": "markdown",
   "metadata": {},
   "source": [
    "#### 2-4. Tokenization and removing punctuations (1pt)"
   ]
  },
  {
   "cell_type": "code",
   "execution_count": 59,
   "metadata": {},
   "outputs": [
    {
     "data": {
      "text/plain": [
       "['guys',\n",
       " 'get',\n",
       " 'attachment',\n",
       " 'send',\n",
       " 'one',\n",
       " 'recently',\n",
       " 'created',\n",
       " 'application',\n",
       " 'javascript',\n",
       " 'programming']"
      ]
     },
     "execution_count": 59,
     "metadata": {},
     "output_type": "execute_result"
    }
   ],
   "source": [
    "#YOUR CODE HERE\n",
    "data['token']=data['stopword'].apply(lambda x: word_tokenize(x))\n",
    "data['token'].iloc[98][:10]\n",
    "\n",
    "data['punct_token']=data['token'].apply(lambda x: [word for word in x if word.isalnum()])\n",
    "data['punct_token'].iloc[98][:10]"
   ]
  },
  {
   "cell_type": "markdown",
   "metadata": {},
   "source": [
    "#### 2-5. Lemmatization (1pt)"
   ]
  },
  {
   "cell_type": "code",
   "execution_count": 60,
   "metadata": {},
   "outputs": [
    {
     "name": "stderr",
     "output_type": "stream",
     "text": [
      "[nltk_data] Downloading package wordnet to\n",
      "[nltk_data]     C:\\Users\\Zain\\AppData\\Roaming\\nltk_data...\n",
      "[nltk_data]   Package wordnet is already up-to-date!\n"
     ]
    },
    {
     "data": {
      "text/plain": [
       "True"
      ]
     },
     "execution_count": 60,
     "metadata": {},
     "output_type": "execute_result"
    }
   ],
   "source": [
    "import nltk\n",
    "nltk.download('wordnet')"
   ]
  },
  {
   "cell_type": "code",
   "execution_count": 61,
   "metadata": {},
   "outputs": [
    {
     "data": {
      "text/html": [
       "<div>\n",
       "<style scoped>\n",
       "    .dataframe tbody tr th:only-of-type {\n",
       "        vertical-align: middle;\n",
       "    }\n",
       "\n",
       "    .dataframe tbody tr th {\n",
       "        vertical-align: top;\n",
       "    }\n",
       "\n",
       "    .dataframe thead th {\n",
       "        text-align: right;\n",
       "    }\n",
       "</style>\n",
       "<table border=\"1\" class=\"dataframe\">\n",
       "  <thead>\n",
       "    <tr style=\"text-align: right;\">\n",
       "      <th></th>\n",
       "      <th>thread_id</th>\n",
       "      <th>thread_name</th>\n",
       "      <th>body</th>\n",
       "      <th>account</th>\n",
       "      <th>url</th>\n",
       "      <th>date</th>\n",
       "      <th>extracted_usernames</th>\n",
       "      <th>extracted_dates</th>\n",
       "      <th>body_lower</th>\n",
       "      <th>stopword</th>\n",
       "      <th>token</th>\n",
       "      <th>punct_token</th>\n",
       "      <th>body_lemmatization</th>\n",
       "    </tr>\n",
       "  </thead>\n",
       "  <tbody>\n",
       "    <tr>\n",
       "      <th>0</th>\n",
       "      <td>4007</td>\n",
       "      <td>Temperature-monitoring-project-in-C</td>\n",
       "      <td>[\"Hi people! Right now, I'm currently doing a ...</td>\n",
       "      <td>['chojiro1990' 'soronel.haetir' 'chojiro1990' ...</td>\n",
       "      <td>['https://www.freelists.org/post/program-l/Tem...</td>\n",
       "      <td>['2013-06-05T09:50:54.000000000' '2013-06-05T1...</td>\n",
       "      <td>[chojiro1990, soronel.haetir, chojiro1990, sor...</td>\n",
       "      <td>[(2013, 06, 05), (2013, 06, 05), (2013, 06, 05...</td>\n",
       "      <td>[\"hi people! right now, i'm currently doing a ...</td>\n",
       "      <td>[\"hi people! right now, i'm currently project ...</td>\n",
       "      <td>[[, ``, hi, people, !, right, now, ,, i, 'm, c...</td>\n",
       "      <td>[hi, people, right, now, i, currently, project...</td>\n",
       "      <td>[[, \", h, i,  , p, e, o, p, l, e, !,  , r, i, ...</td>\n",
       "    </tr>\n",
       "    <tr>\n",
       "      <th>1</th>\n",
       "      <td>7725</td>\n",
       "      <td>subscription</td>\n",
       "      <td>['I am. I write you from Budapest, Hungary. I ...</td>\n",
       "      <td>['hedvig.jung' 'dzhovani.chemishanov' 'hedvig....</td>\n",
       "      <td>['https://www.freelists.org/post/program-l/sub...</td>\n",
       "      <td>['2021-05-18T14:26:59.000000000' '2021-05-18T1...</td>\n",
       "      <td>[hedvig.jung, dzhovani.chemishanov, hedvig.jung]</td>\n",
       "      <td>[(2021, 05, 18), (2021, 05, 18), (2021, 05, 18)]</td>\n",
       "      <td>['i am. i write you from budapest, hungary. i ...</td>\n",
       "      <td>['i am. write budapest, hungary. work area vis...</td>\n",
       "      <td>[[, ', i, am, ., write, budapest, ,, hungary, ...</td>\n",
       "      <td>[i, am, write, budapest, hungary, work, area, ...</td>\n",
       "      <td>[[, ', i,  , a, m, .,  , i,  , w, r, i, t, e, ...</td>\n",
       "    </tr>\n",
       "    <tr>\n",
       "      <th>2</th>\n",
       "      <td>1162</td>\n",
       "      <td>jaws-remote-desktop</td>\n",
       "      <td>[\"Hi All. I'm possibly needing to use windows ...</td>\n",
       "      <td>['justind' 'david.lant' 'justind' 'travis' 'ju...</td>\n",
       "      <td>['https://www.freelists.org/post/program-l/jaw...</td>\n",
       "      <td>['2005-08-31T08:52:21.000000000' '2005-08-31T0...</td>\n",
       "      <td>[justind, david.lant, justind, travis, justind...</td>\n",
       "      <td>[(2005, 08, 31), (2005, 08, 31), (2005, 08, 31...</td>\n",
       "      <td>[\"hi all. i'm possibly needing to use windows ...</td>\n",
       "      <td>[\"hi all. i'm possibly needing use windows xp ...</td>\n",
       "      <td>[[, ``, hi, all, ., i, 'm, possibly, needing, ...</td>\n",
       "      <td>[hi, all, i, possibly, needing, use, windows, ...</td>\n",
       "      <td>[[, \", h, i,  , a, l, l, .,  , i, ', m,  , p, ...</td>\n",
       "    </tr>\n",
       "    <tr>\n",
       "      <th>3</th>\n",
       "      <td>2300</td>\n",
       "      <td>Problems-with-VC-2008-Express</td>\n",
       "      <td>['gang I\\'m trying to use VC # Express 2008. O...</td>\n",
       "      <td>['birkir.gunnarsson' 'lras' 'birkir.gunnarsson...</td>\n",
       "      <td>['https://www.freelists.org/post/program-l/Pro...</td>\n",
       "      <td>['2009-05-19T19:12:22.000000000' '2009-05-19T1...</td>\n",
       "      <td>[birkir.gunnarsson, lras, birkir.gunnarsson, j...</td>\n",
       "      <td>[(2009, 05, 19), (2009, 05, 19), (2009, 05, 19...</td>\n",
       "      <td>['gang i\\'m trying to use vc # express 2008. o...</td>\n",
       "      <td>['gang i\\'m trying use vc # express 2008. firs...</td>\n",
       "      <td>[[, 'gang, i\\, 'm, trying, use, vc, #, express...</td>\n",
       "      <td>[trying, use, vc, express, first, page, open, ...</td>\n",
       "      <td>[[, ', g, a, n, g,  , i, \\, ', m,  , t, r, y, ...</td>\n",
       "    </tr>\n",
       "    <tr>\n",
       "      <th>4</th>\n",
       "      <td>1117</td>\n",
       "      <td>VB6-Tab-Order</td>\n",
       "      <td>[\"Hi all, I have a VB form which shows a numbe...</td>\n",
       "      <td>['david.lant' 'markalong64' 'jamal.mazrui' 'da...</td>\n",
       "      <td>['https://www.freelists.org/post/program-l/VB6...</td>\n",
       "      <td>['2005-07-28T15:12:17.000000000' '2005-07-28T1...</td>\n",
       "      <td>[david.lant, markalong64, jamal.mazrui, david....</td>\n",
       "      <td>[(2005, 07, 28), (2005, 07, 28), (2005, 07, 28...</td>\n",
       "      <td>[\"hi all, i have a vb form which shows a numbe...</td>\n",
       "      <td>[\"hi all, vb form shows number rows controls. ...</td>\n",
       "      <td>[[, ``, hi, all, ,, vb, form, shows, number, r...</td>\n",
       "      <td>[hi, all, vb, form, shows, number, rows, contr...</td>\n",
       "      <td>[[, \", h, i,  , a, l, l, ,,  , i,  , h, a, v, ...</td>\n",
       "    </tr>\n",
       "  </tbody>\n",
       "</table>\n",
       "</div>"
      ],
      "text/plain": [
       "   thread_id                          thread_name  \\\n",
       "0       4007  Temperature-monitoring-project-in-C   \n",
       "1       7725                         subscription   \n",
       "2       1162                  jaws-remote-desktop   \n",
       "3       2300        Problems-with-VC-2008-Express   \n",
       "4       1117                        VB6-Tab-Order   \n",
       "\n",
       "                                                body  \\\n",
       "0  [\"Hi people! Right now, I'm currently doing a ...   \n",
       "1  ['I am. I write you from Budapest, Hungary. I ...   \n",
       "2  [\"Hi All. I'm possibly needing to use windows ...   \n",
       "3  ['gang I\\'m trying to use VC # Express 2008. O...   \n",
       "4  [\"Hi all, I have a VB form which shows a numbe...   \n",
       "\n",
       "                                             account  \\\n",
       "0  ['chojiro1990' 'soronel.haetir' 'chojiro1990' ...   \n",
       "1  ['hedvig.jung' 'dzhovani.chemishanov' 'hedvig....   \n",
       "2  ['justind' 'david.lant' 'justind' 'travis' 'ju...   \n",
       "3  ['birkir.gunnarsson' 'lras' 'birkir.gunnarsson...   \n",
       "4  ['david.lant' 'markalong64' 'jamal.mazrui' 'da...   \n",
       "\n",
       "                                                 url  \\\n",
       "0  ['https://www.freelists.org/post/program-l/Tem...   \n",
       "1  ['https://www.freelists.org/post/program-l/sub...   \n",
       "2  ['https://www.freelists.org/post/program-l/jaw...   \n",
       "3  ['https://www.freelists.org/post/program-l/Pro...   \n",
       "4  ['https://www.freelists.org/post/program-l/VB6...   \n",
       "\n",
       "                                                date  \\\n",
       "0  ['2013-06-05T09:50:54.000000000' '2013-06-05T1...   \n",
       "1  ['2021-05-18T14:26:59.000000000' '2021-05-18T1...   \n",
       "2  ['2005-08-31T08:52:21.000000000' '2005-08-31T0...   \n",
       "3  ['2009-05-19T19:12:22.000000000' '2009-05-19T1...   \n",
       "4  ['2005-07-28T15:12:17.000000000' '2005-07-28T1...   \n",
       "\n",
       "                                 extracted_usernames  \\\n",
       "0  [chojiro1990, soronel.haetir, chojiro1990, sor...   \n",
       "1   [hedvig.jung, dzhovani.chemishanov, hedvig.jung]   \n",
       "2  [justind, david.lant, justind, travis, justind...   \n",
       "3  [birkir.gunnarsson, lras, birkir.gunnarsson, j...   \n",
       "4  [david.lant, markalong64, jamal.mazrui, david....   \n",
       "\n",
       "                                     extracted_dates  \\\n",
       "0  [(2013, 06, 05), (2013, 06, 05), (2013, 06, 05...   \n",
       "1   [(2021, 05, 18), (2021, 05, 18), (2021, 05, 18)]   \n",
       "2  [(2005, 08, 31), (2005, 08, 31), (2005, 08, 31...   \n",
       "3  [(2009, 05, 19), (2009, 05, 19), (2009, 05, 19...   \n",
       "4  [(2005, 07, 28), (2005, 07, 28), (2005, 07, 28...   \n",
       "\n",
       "                                          body_lower  \\\n",
       "0  [\"hi people! right now, i'm currently doing a ...   \n",
       "1  ['i am. i write you from budapest, hungary. i ...   \n",
       "2  [\"hi all. i'm possibly needing to use windows ...   \n",
       "3  ['gang i\\'m trying to use vc # express 2008. o...   \n",
       "4  [\"hi all, i have a vb form which shows a numbe...   \n",
       "\n",
       "                                            stopword  \\\n",
       "0  [\"hi people! right now, i'm currently project ...   \n",
       "1  ['i am. write budapest, hungary. work area vis...   \n",
       "2  [\"hi all. i'm possibly needing use windows xp ...   \n",
       "3  ['gang i\\'m trying use vc # express 2008. firs...   \n",
       "4  [\"hi all, vb form shows number rows controls. ...   \n",
       "\n",
       "                                               token  \\\n",
       "0  [[, ``, hi, people, !, right, now, ,, i, 'm, c...   \n",
       "1  [[, ', i, am, ., write, budapest, ,, hungary, ...   \n",
       "2  [[, ``, hi, all, ., i, 'm, possibly, needing, ...   \n",
       "3  [[, 'gang, i\\, 'm, trying, use, vc, #, express...   \n",
       "4  [[, ``, hi, all, ,, vb, form, shows, number, r...   \n",
       "\n",
       "                                         punct_token  \\\n",
       "0  [hi, people, right, now, i, currently, project...   \n",
       "1  [i, am, write, budapest, hungary, work, area, ...   \n",
       "2  [hi, all, i, possibly, needing, use, windows, ...   \n",
       "3  [trying, use, vc, express, first, page, open, ...   \n",
       "4  [hi, all, vb, form, shows, number, rows, contr...   \n",
       "\n",
       "                                  body_lemmatization  \n",
       "0  [[, \", h, i,  , p, e, o, p, l, e, !,  , r, i, ...  \n",
       "1  [[, ', i,  , a, m, .,  , i,  , w, r, i, t, e, ...  \n",
       "2  [[, \", h, i,  , a, l, l, .,  , i, ', m,  , p, ...  \n",
       "3  [[, ', g, a, n, g,  , i, \\, ', m,  , t, r, y, ...  \n",
       "4  [[, \", h, i,  , a, l, l, ,,  , i,  , h, a, v, ...  "
      ]
     },
     "execution_count": 61,
     "metadata": {},
     "output_type": "execute_result"
    }
   ],
   "source": [
    "#YOUR CODE HERE\n",
    "import pandas as pd\n",
    "from nltk.stem import WordNetLemmatizer\n",
    "\n",
    "wn = WordNetLemmatizer()\n",
    "def lemmatization(token_txt):\n",
    "    text = [wn.lemmatize(word) for word in token_txt]\n",
    "    return text\n",
    "data['body_lemmatization'] = data['body_lower'].apply(lambda x: lemmatization(x))\n",
    "data.head()"
   ]
  },
  {
   "cell_type": "code",
   "execution_count": 62,
   "metadata": {},
   "outputs": [],
   "source": [
    "def nltk_tag_to_wordnet_tag(nltk_tag):\n",
    "    if nltk_tag.startswith('J'): #ADJECTIVE\n",
    "        return wordnet.ADJ\n",
    "    elif nltk_tag.startswith('V'): #VERN\n",
    "        return wordnet.VERB\n",
    "    elif nltk_tag.startswith('N'): #NOUN        \n",
    "        return wordnet.NOUN\n",
    "    elif nltk_tag.startswith('R'): #ADVERB\n",
    "        return wordnet.ADV\n",
    "    else:          \n",
    "        return None"
   ]
  },
  {
   "cell_type": "code",
   "execution_count": 63,
   "metadata": {},
   "outputs": [],
   "source": [
    "def lemmatize_sentence(sentence):\n",
    "    # Tokenize the sentence and find the POS tag for each token\n",
    "    nltk_tagged = nltk.pos_tag(nltk.word_tokenize(sentence))  \n",
    "    # Tuple of (token, wordnet_tag)\n",
    "    wordnet_tagged = map(lambda x: (x[0], nltk_tag_to_wordnet_tag(x[1])), nltk_tagged) \n",
    "    lemmatized_sentence = []\n",
    "    for word, tag in wordnet_tagged:\n",
    "        if tag is None:\n",
    "            # If no tag was found, then use the word as is\n",
    "            lemmatized_sentence.append(word)\n",
    "        else:        \n",
    "            # Else use the tag to lemmatize the word\n",
    "            lemmatized_sentence.append(lemmatizer.lemmatize(word, tag))\n",
    "    return \" \".join(lemmatized_sentence)"
   ]
  },
  {
   "cell_type": "markdown",
   "metadata": {},
   "source": [
    "#### 2-6. Count the frequency of unigrams (1pt)"
   ]
  },
  {
   "cell_type": "code",
   "execution_count": 64,
   "metadata": {},
   "outputs": [
    {
     "data": {
      "text/plain": [
       "[('the', 2382),\n",
       " ('to', 1856),\n",
       " ('i', 1433),\n",
       " ('a', 1172),\n",
       " ('it', 804),\n",
       " ('is', 802),\n",
       " ('that', 751),\n",
       " ('of', 744),\n",
       " ('you', 741),\n",
       " ('for', 650)]"
      ]
     },
     "execution_count": 64,
     "metadata": {},
     "output_type": "execute_result"
    }
   ],
   "source": [
    "#YOUR CODE HERE\n",
    "def simple_tokenize(text):\n",
    "    return text.lower().split()\n",
    "\n",
    "thread_sample_path = 'thread_sample.csv'\n",
    "thread_sample_df = pd.read_csv(thread_sample_path)\n",
    "\n",
    "unigrams_simple = thread_sample_df['body'].astype(str).apply(lambda x: simple_tokenize(x))\n",
    "unigrams_flat_list_simple = [item for sublist in unigrams_simple for item in sublist]\n",
    "\n",
    "unigram_counts_simple = Counter(unigrams_flat_list_simple)\n",
    "\n",
    "unigram_counts_simple.most_common(10)"
   ]
  },
  {
   "cell_type": "markdown",
   "metadata": {},
   "source": [
    "### 3. Building edges (2pt)"
   ]
  },
  {
   "cell_type": "markdown",
   "metadata": {},
   "source": [
    "#### 3-1. Combination"
   ]
  },
  {
   "cell_type": "code",
   "execution_count": 65,
   "metadata": {},
   "outputs": [],
   "source": [
    "#YOUR CODE HERE\n",
    "import itertools\n",
    "edges=[]\n",
    "for idx, val in data['account'].items():\n",
    "    edges.extend(list(itertools.combinations(val, 2)))"
   ]
  },
  {
   "cell_type": "code",
   "execution_count": 66,
   "metadata": {},
   "outputs": [
    {
     "data": {
      "text/plain": [
       "[('[', \"'\"), ('[', 'c'), ('[', 'h'), ('[', 'o'), ('[', 'j')]"
      ]
     },
     "execution_count": 66,
     "metadata": {},
     "output_type": "execute_result"
    }
   ],
   "source": [
    "edges[:5]"
   ]
  },
  {
   "cell_type": "markdown",
   "metadata": {},
   "source": [
    "#### 3-2. Removing self-loop (1pt)"
   ]
  },
  {
   "cell_type": "code",
   "execution_count": 67,
   "metadata": {},
   "outputs": [],
   "source": [
    "#YOUR CODE HERE\n",
    "edges_loop = [edge for edge in edges if edge[0] != edge[1]]"
   ]
  },
  {
   "cell_type": "code",
   "execution_count": 68,
   "metadata": {},
   "outputs": [
    {
     "data": {
      "text/plain": [
       "[('[', \"'\"), ('[', 'c'), ('[', 'h'), ('[', 'o'), ('[', 'j')]"
      ]
     },
     "execution_count": 68,
     "metadata": {},
     "output_type": "execute_result"
    }
   ],
   "source": [
    "edges_loop[:5]"
   ]
  }
 ],
 "metadata": {
  "kernelspec": {
   "display_name": "py3.10",
   "language": "python",
   "name": "python3"
  },
  "language_info": {
   "codemirror_mode": {
    "name": "ipython",
    "version": 3
   },
   "file_extension": ".py",
   "mimetype": "text/x-python",
   "name": "python",
   "nbconvert_exporter": "python",
   "pygments_lexer": "ipython3",
   "version": "3.10.11"
  }
 },
 "nbformat": 4,
 "nbformat_minor": 2
}
